{
 "cells": [
  {
   "cell_type": "code",
   "execution_count": null,
   "id": "ddb25c33-1c5e-44c4-9a35-fbc5eda2b4e7",
   "metadata": {},
   "outputs": [],
   "source": [
    "# Q1. Create one variable containing following type of data:\n",
    "# (i) string\n",
    "# (ii) list\n",
    "# (iii) float\n",
    "# (iv) tuple\n",
    "# ANSWER :\n",
    "data=[\"Anjali\",\"mango\",45.78,[56,67,98],(90,\"chiku\")]\n",
    "for i in data:\n",
    "      print( \"type of \", i,\"is\",type(i))\n",
    "      "
   ]
  },
  {
   "cell_type": "code",
   "execution_count": 2,
   "id": "359a50a0-0f64-48cc-bd4b-6fdd8705d98f",
   "metadata": {},
   "outputs": [
    {
     "name": "stdout",
     "output_type": "stream",
     "text": [
      "<class 'str'>\n",
      "<class 'str'>\n",
      "<class 'list'>\n",
      "<class 'float'>\n"
     ]
    }
   ],
   "source": [
    "#Q2. Given are some following variables containing data:\n",
    "# (i) var1 = ‘ ‘\n",
    "# (ii) var2 = ‘[ DS , ML , Python]’\n",
    "# (iii) var3 = [ ‘DS’ , ’ML’ , ‘Python’ ]\n",
    "# (iv) var4 = 1.\n",
    "# What will be the data type of the above given variable. \n",
    "#ANSWER :\n",
    "var1 = ' '\n",
    "print(type(var1))\n",
    "var2 = '[ DS , ML , Python]'\n",
    "print(type(var2))\n",
    "var3 = [ 'DS' , 'ML' , 'Python' ]\n",
    "print(type(var3))\n",
    "var4 = 1.\n",
    "print(type(var4))\n"
   ]
  },
  {
   "cell_type": "code",
   "execution_count": null,
   "id": "e0d96c1b-2c5d-4215-91f9-4f540431b4ab",
   "metadata": {
    "tags": []
   },
   "outputs": [],
   "source": [
    "# Q3. Explain the use of the following operators using an example:\n",
    "# (i) /\n",
    "# (ii) %\n",
    "# (iii) //\n",
    "# (iv) **\n",
    "#ANSWER :\n",
    "a=20 \n",
    "b=4\n",
    "c=a/b\n",
    "print(c)\n",
    "# / is divide operator\n",
    "m=45\n",
    "n=2\n",
    "p=m%n\n",
    "print(p)\n",
    "# % is modulo operator\n",
    "x= 58\n",
    "y=3\n",
    "z=x//y\n",
    "print(z)\n",
    "# // is floor division operator\n",
    "i=9\n",
    "j=2\n",
    "k=i**j\n",
    "print(k)\n",
    "# ** is power operator\n"
   ]
  },
  {
   "cell_type": "code",
   "execution_count": 15,
   "id": "bc25a837-ef89-4ad0-a28a-ea701212bcbc",
   "metadata": {},
   "outputs": [
    {
     "name": "stdout",
     "output_type": "stream",
     "text": [
      "length is : 10\n",
      "Anjali : <class 'str'>\n",
      "M.Sc : <class 'str'>\n",
      "21 : <class 'int'>\n",
      "(4+6j) : <class 'complex'>\n",
      "56.78 : <class 'float'>\n",
      "('mango', 'orange') : <class 'tuple'>\n",
      "['pink', 45, 'red'] : <class 'list'>\n",
      "True : <class 'bool'>\n",
      "False : <class 'bool'>\n",
      "0 : <class 'int'>\n"
     ]
    }
   ],
   "source": [
    "#Q4. Create a list of length 10 of your choice containing multiple types of data. Using for loop print the\n",
    "#element and its data type.\n",
    "\n",
    "#ANSWER :\n",
    "\n",
    "list=[\"Anjali\",\"M.Sc\",21,4+6j,56.78,(\"mango\",\"orange\"),[\"pink\",45,\"red\"],True,False,0,]\n",
    "print(\"length is :\",len(list))\n",
    "for items in list:\n",
    "    print(items,\":\",type(items))\n"
   ]
  },
  {
   "cell_type": "code",
   "execution_count": 1,
   "id": "19cc1d1a-45b4-4aef-9972-e742600e3ac6",
   "metadata": {},
   "outputs": [
    {
     "name": "stdout",
     "output_type": "stream",
     "text": [
      "23  is not divisble by 3\n",
      "45 divisble by 3\n",
      "89  is not divisble by 3\n",
      "90 divisble by 3\n",
      "70  is not divisble by 3\n",
      "537 divisble by 3\n",
      "57 divisble by 3\n",
      "854  is not divisble by 3\n",
      "12 divisble by 3\n",
      "3 divisble by 3\n",
      "21 divisble by 3\n",
      "47  is not divisble by 3\n",
      "654 divisble by 3\n",
      "34  is not divisble by 3\n",
      "39 divisble by 3\n",
      "666 divisble by 3\n",
      "28  is not divisble by 3\n",
      "29  is not divisble by 3\n",
      "6789 divisble by 3\n",
      "8  is not divisble by 3\n",
      "47  is not divisble by 3\n",
      "567 divisble by 3\n",
      "92  is not divisble by 3\n",
      "100  is not divisble by 3\n",
      "900 divisble by 3\n"
     ]
    }
   ],
   "source": [
    "#Q6. Create a list containing 25 int type data. Using for loop and if-else condition print if the element is\n",
    "#divisible by 3 or not.\n",
    "\n",
    "#ANSWER :\n",
    "\n",
    "num=[23,45,89,90,70,537,57,854,12,3,21,47,654,34,39,666,28,29,6789,8,47,567,92,100,900]\n",
    "for n in num:\n",
    "    if n%3==0:\n",
    "        print(n,\"divisble by 3\")\n",
    "    else:\n",
    "        print(n, \" is not divisble by 3\")\n",
    "        \n"
   ]
  },
  {
   "cell_type": "code",
   "execution_count": 23,
   "id": "f3d2a4fa-7902-4c1a-88bb-d08bc465ac9d",
   "metadata": {},
   "outputs": [
    {
     "name": "stdout",
     "output_type": "stream",
     "text": [
      "['ram singh', 'ritika', 'suhani dubay', 'ritesh']\n"
     ]
    }
   ],
   "source": [
    "# Q7. What do you understand about mutable and immutable data types? Give examples for both showing\n",
    "#this property.\n",
    "\n",
    "# ANSWER :\n",
    "\n",
    "# MUTABLE DATA TYPE:::\n",
    "                     # data type in which we can make changes without effecting the acctual identity of data type .for example: list,set..\n",
    "list=[\"ram singh\",\"ritika\",\"suhani dubay\"]\n",
    "list.append(\"ritesh\")\n",
    "print(list)\n",
    "# IMUTABLE DATA TYPE:::\n",
    "                     # data type in which we cann't make changes without effecting the acctual identity of data type.for example:tuple,str.\n",
    "tuple=(45.9,32,57,90.78)\n",
    "print(tuple.append(85))\n",
    "this give error \n"
   ]
  }
 ],
 "metadata": {
  "kernelspec": {
   "display_name": "Python 3 (ipykernel)",
   "language": "python",
   "name": "python3"
  },
  "language_info": {
   "codemirror_mode": {
    "name": "ipython",
    "version": 3
   },
   "file_extension": ".py",
   "mimetype": "text/x-python",
   "name": "python",
   "nbconvert_exporter": "python",
   "pygments_lexer": "ipython3",
   "version": "3.10.8"
  }
 },
 "nbformat": 4,
 "nbformat_minor": 5
}
